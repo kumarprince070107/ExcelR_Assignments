{
 "cells": [
  {
   "cell_type": "code",
   "execution_count": 4,
   "metadata": {
    "id": "aLR7FPdL5O9Y"
   },
   "outputs": [],
   "source": [
    "import pandas as pd"
   ]
  },
  {
   "cell_type": "code",
   "execution_count": 5,
   "metadata": {
    "id": "K-2_aY2x553y"
   },
   "outputs": [],
   "source": [
    "salary_data=pd.read_csv('SalaryData_Train(1).csv')"
   ]
  },
  {
   "cell_type": "code",
   "execution_count": 6,
   "metadata": {
    "id": "OG9wYsKs6ORA"
   },
   "outputs": [],
   "source": [
    "from sklearn.preprocessing import StandardScaler,LabelEncoder\n",
    "from sklearn.model_selection import train_test_split\n",
    "from sklearn.svm import SVC\n",
    "from sklearn.metrics import  accuracy_score,precision_score,recall_score,confusion_matrix,roc_auc_score\n",
    "import matplotlib.pyplot as plt\n",
    "import seaborn as sns"
   ]
  },
  {
   "cell_type": "code",
   "execution_count": 7,
   "metadata": {
    "colab": {
     "base_uri": "https://localhost:8080/",
     "height": 307
    },
    "id": "7IFceLtJ6f6H",
    "outputId": "fd3fd251-e459-4962-d77f-ad36a63ce7e2"
   },
   "outputs": [
    {
     "data": {
      "text/html": [
       "<div>\n",
       "<style scoped>\n",
       "    .dataframe tbody tr th:only-of-type {\n",
       "        vertical-align: middle;\n",
       "    }\n",
       "\n",
       "    .dataframe tbody tr th {\n",
       "        vertical-align: top;\n",
       "    }\n",
       "\n",
       "    .dataframe thead th {\n",
       "        text-align: right;\n",
       "    }\n",
       "</style>\n",
       "<table border=\"1\" class=\"dataframe\">\n",
       "  <thead>\n",
       "    <tr style=\"text-align: right;\">\n",
       "      <th></th>\n",
       "      <th>age</th>\n",
       "      <th>workclass</th>\n",
       "      <th>education</th>\n",
       "      <th>educationno</th>\n",
       "      <th>maritalstatus</th>\n",
       "      <th>occupation</th>\n",
       "      <th>relationship</th>\n",
       "      <th>race</th>\n",
       "      <th>sex</th>\n",
       "      <th>capitalgain</th>\n",
       "      <th>capitalloss</th>\n",
       "      <th>hoursperweek</th>\n",
       "      <th>native</th>\n",
       "      <th>Salary</th>\n",
       "    </tr>\n",
       "  </thead>\n",
       "  <tbody>\n",
       "    <tr>\n",
       "      <th>0</th>\n",
       "      <td>39</td>\n",
       "      <td>State-gov</td>\n",
       "      <td>Bachelors</td>\n",
       "      <td>13</td>\n",
       "      <td>Never-married</td>\n",
       "      <td>Adm-clerical</td>\n",
       "      <td>Not-in-family</td>\n",
       "      <td>White</td>\n",
       "      <td>Male</td>\n",
       "      <td>2174</td>\n",
       "      <td>0</td>\n",
       "      <td>40</td>\n",
       "      <td>United-States</td>\n",
       "      <td>&lt;=50K</td>\n",
       "    </tr>\n",
       "    <tr>\n",
       "      <th>1</th>\n",
       "      <td>50</td>\n",
       "      <td>Self-emp-not-inc</td>\n",
       "      <td>Bachelors</td>\n",
       "      <td>13</td>\n",
       "      <td>Married-civ-spouse</td>\n",
       "      <td>Exec-managerial</td>\n",
       "      <td>Husband</td>\n",
       "      <td>White</td>\n",
       "      <td>Male</td>\n",
       "      <td>0</td>\n",
       "      <td>0</td>\n",
       "      <td>13</td>\n",
       "      <td>United-States</td>\n",
       "      <td>&lt;=50K</td>\n",
       "    </tr>\n",
       "    <tr>\n",
       "      <th>2</th>\n",
       "      <td>38</td>\n",
       "      <td>Private</td>\n",
       "      <td>HS-grad</td>\n",
       "      <td>9</td>\n",
       "      <td>Divorced</td>\n",
       "      <td>Handlers-cleaners</td>\n",
       "      <td>Not-in-family</td>\n",
       "      <td>White</td>\n",
       "      <td>Male</td>\n",
       "      <td>0</td>\n",
       "      <td>0</td>\n",
       "      <td>40</td>\n",
       "      <td>United-States</td>\n",
       "      <td>&lt;=50K</td>\n",
       "    </tr>\n",
       "    <tr>\n",
       "      <th>3</th>\n",
       "      <td>53</td>\n",
       "      <td>Private</td>\n",
       "      <td>11th</td>\n",
       "      <td>7</td>\n",
       "      <td>Married-civ-spouse</td>\n",
       "      <td>Handlers-cleaners</td>\n",
       "      <td>Husband</td>\n",
       "      <td>Black</td>\n",
       "      <td>Male</td>\n",
       "      <td>0</td>\n",
       "      <td>0</td>\n",
       "      <td>40</td>\n",
       "      <td>United-States</td>\n",
       "      <td>&lt;=50K</td>\n",
       "    </tr>\n",
       "    <tr>\n",
       "      <th>4</th>\n",
       "      <td>28</td>\n",
       "      <td>Private</td>\n",
       "      <td>Bachelors</td>\n",
       "      <td>13</td>\n",
       "      <td>Married-civ-spouse</td>\n",
       "      <td>Prof-specialty</td>\n",
       "      <td>Wife</td>\n",
       "      <td>Black</td>\n",
       "      <td>Female</td>\n",
       "      <td>0</td>\n",
       "      <td>0</td>\n",
       "      <td>40</td>\n",
       "      <td>Cuba</td>\n",
       "      <td>&lt;=50K</td>\n",
       "    </tr>\n",
       "  </tbody>\n",
       "</table>\n",
       "</div>"
      ],
      "text/plain": [
       "   age          workclass   education  ...  hoursperweek          native  Salary\n",
       "0   39          State-gov   Bachelors  ...            40   United-States   <=50K\n",
       "1   50   Self-emp-not-inc   Bachelors  ...            13   United-States   <=50K\n",
       "2   38            Private     HS-grad  ...            40   United-States   <=50K\n",
       "3   53            Private        11th  ...            40   United-States   <=50K\n",
       "4   28            Private   Bachelors  ...            40            Cuba   <=50K\n",
       "\n",
       "[5 rows x 14 columns]"
      ]
     },
     "execution_count": 7,
     "metadata": {},
     "output_type": "execute_result"
    }
   ],
   "source": [
    "salary_data.head()"
   ]
  },
  {
   "cell_type": "code",
   "execution_count": 8,
   "metadata": {
    "id": "GBpdTx2h6tLU"
   },
   "outputs": [],
   "source": [
    "# Data Understanding"
   ]
  },
  {
   "cell_type": "code",
   "execution_count": 9,
   "metadata": {
    "colab": {
     "base_uri": "https://localhost:8080/"
    },
    "id": "4Pqn6zRpdCsB",
    "outputId": "22e7c531-1d47-4a27-e4c6-4179cf3074ec"
   },
   "outputs": [
    {
     "data": {
      "text/plain": [
       "(30161, 14)"
      ]
     },
     "execution_count": 9,
     "metadata": {},
     "output_type": "execute_result"
    }
   ],
   "source": [
    "salary_data.shape"
   ]
  },
  {
   "cell_type": "code",
   "execution_count": 10,
   "metadata": {
    "colab": {
     "base_uri": "https://localhost:8080/"
    },
    "id": "S4lCN5ELdE71",
    "outputId": "6584258c-48bc-46d9-ee2b-93a1520c8e3e"
   },
   "outputs": [
    {
     "name": "stdout",
     "output_type": "stream",
     "text": [
      "<class 'pandas.core.frame.DataFrame'>\n",
      "RangeIndex: 30161 entries, 0 to 30160\n",
      "Data columns (total 14 columns):\n",
      " #   Column         Non-Null Count  Dtype \n",
      "---  ------         --------------  ----- \n",
      " 0   age            30161 non-null  int64 \n",
      " 1   workclass      30161 non-null  object\n",
      " 2   education      30161 non-null  object\n",
      " 3   educationno    30161 non-null  int64 \n",
      " 4   maritalstatus  30161 non-null  object\n",
      " 5   occupation     30161 non-null  object\n",
      " 6   relationship   30161 non-null  object\n",
      " 7   race           30161 non-null  object\n",
      " 8   sex            30161 non-null  object\n",
      " 9   capitalgain    30161 non-null  int64 \n",
      " 10  capitalloss    30161 non-null  int64 \n",
      " 11  hoursperweek   30161 non-null  int64 \n",
      " 12  native         30161 non-null  object\n",
      " 13  Salary         30161 non-null  object\n",
      "dtypes: int64(5), object(9)\n",
      "memory usage: 3.2+ MB\n"
     ]
    }
   ],
   "source": [
    "salary_data.info()"
   ]
  },
  {
   "cell_type": "code",
   "execution_count": 11,
   "metadata": {
    "colab": {
     "base_uri": "https://localhost:8080/"
    },
    "id": "EJszJYr6d5-z",
    "outputId": "c6021555-b49c-4191-8201-fbb5dec8b981"
   },
   "outputs": [
    {
     "data": {
      "text/plain": [
       "age              0\n",
       "workclass        0\n",
       "education        0\n",
       "educationno      0\n",
       "maritalstatus    0\n",
       "occupation       0\n",
       "relationship     0\n",
       "race             0\n",
       "sex              0\n",
       "capitalgain      0\n",
       "capitalloss      0\n",
       "hoursperweek     0\n",
       "native           0\n",
       "Salary           0\n",
       "dtype: int64"
      ]
     },
     "execution_count": 11,
     "metadata": {},
     "output_type": "execute_result"
    }
   ],
   "source": [
    "salary_data.isnull().sum()"
   ]
  },
  {
   "cell_type": "markdown",
   "metadata": {
    "id": "ViZ1Me0MdSjl"
   },
   "source": [
    "# Data Preparation"
   ]
  },
  {
   "cell_type": "code",
   "execution_count": 13,
   "metadata": {
    "id": "1TbZeP8CdWvv"
   },
   "outputs": [],
   "source": [
    "le=LabelEncoder()"
   ]
  },
  {
   "cell_type": "code",
   "execution_count": 14,
   "metadata": {
    "id": "Itn73JIUeIKH"
   },
   "outputs": [],
   "source": [
    "salary_data['education']=le.fit_transform(salary_data.education)\n",
    "salary_data['Salary']=le.fit_transform(salary_data.Salary)\n",
    "salary_data['native']=le.fit_transform(salary_data.native)\n",
    "salary_data['sex']=le.fit_transform(salary_data.sex)\n",
    "salary_data['race']=le.fit_transform(salary_data.race)\n",
    "salary_data['relationship']=le.fit_transform(salary_data.relationship)\n",
    "salary_data['occupation']=le.fit_transform(salary_data.occupation)\n",
    "salary_data['maritalstatus']=le.fit_transform(salary_data.maritalstatus)\n",
    "salary_data['workclass']=le.fit_transform(salary_data.workclass)"
   ]
  },
  {
   "cell_type": "code",
   "execution_count": 16,
   "metadata": {
    "colab": {
     "base_uri": "https://localhost:8080/"
    },
    "id": "x45sK2zNeM4s",
    "outputId": "623f85eb-661e-4aa0-a0c4-28d03574cdc0"
   },
   "outputs": [
    {
     "data": {
      "text/plain": [
       "array([[ 0.04277892,  2.93594688, -0.34982703, ..., -0.21850808,\n",
       "        -0.07773541,  0.26635842],\n",
       "       [ 0.88026081,  1.88764517, -0.34982703, ..., -0.21850808,\n",
       "        -2.33149486,  0.26635842],\n",
       "       [-0.0333558 , -0.20895825,  0.1748048 , ..., -0.21850808,\n",
       "        -0.07773541,  0.26635842],\n",
       "       ...,\n",
       "       [ 1.48933854, -0.20895825,  0.1748048 , ..., -0.21850808,\n",
       "        -0.07773541,  0.26635842],\n",
       "       [-1.25151126, -0.20895825,  0.1748048 , ..., -0.21850808,\n",
       "        -1.74718685,  0.26635842],\n",
       "       [ 1.03253024,  0.83934346,  0.1748048 , ..., -0.21850808,\n",
       "        -0.07773541,  0.26635842]])"
      ]
     },
     "execution_count": 16,
     "metadata": {},
     "output_type": "execute_result"
    }
   ],
   "source": [
    "scaler   = StandardScaler()\n",
    "x_scaled = scaler.fit_transform(x)\n",
    "x_scaled"
   ]
  },
  {
   "cell_type": "code",
   "execution_count": 17,
   "metadata": {
    "id": "eEw8iHq3eZo5"
   },
   "outputs": [],
   "source": [
    "x=salary_data.drop({'Salary'},axis=1)\n",
    "y=salary_data.Salary"
   ]
  },
  {
   "cell_type": "code",
   "execution_count": 18,
   "metadata": {
    "id": "itBNpuBSeQ4B"
   },
   "outputs": [],
   "source": [
    "scaled_x_data=pd.DataFrame(x_scaled,columns=salary_data.columns.drop({'Salary'}))"
   ]
  },
  {
   "cell_type": "markdown",
   "metadata": {
    "id": "m9Bmt3ctehvK"
   },
   "source": [
    "# Model Building"
   ]
  },
  {
   "cell_type": "code",
   "execution_count": 19,
   "metadata": {
    "id": "6XVOec2sel5L"
   },
   "outputs": [],
   "source": [
    "x_train,x_test,y_train,y_test = train_test_split(x,y,test_size = 0.20,random_state = 12,stratify = y)"
   ]
  },
  {
   "cell_type": "code",
   "execution_count": 20,
   "metadata": {
    "colab": {
     "base_uri": "https://localhost:8080/"
    },
    "id": "SVcba0M9etC-",
    "outputId": "7a8f38af-2ecc-48dc-ac3c-c09da0cc0c6c"
   },
   "outputs": [
    {
     "data": {
      "text/plain": [
       "((24128, 13), (24128,), (6033, 13), (6033,))"
      ]
     },
     "execution_count": 20,
     "metadata": {},
     "output_type": "execute_result"
    }
   ],
   "source": [
    "x_train.shape,y_train.shape,x_test.shape,y_test.shape"
   ]
  },
  {
   "cell_type": "markdown",
   "metadata": {
    "id": "Cbai-HIoe7Je"
   },
   "source": [
    "# Kernel - Linear\n",
    "# Model Training without scaling | Model Testing | Model Evaluation¶"
   ]
  },
  {
   "cell_type": "code",
   "execution_count": null,
   "metadata": {
    "id": "Xo5uFF9lfB9u"
   },
   "outputs": [],
   "source": [
    "X_train,X_test,y_train,y_test = train_test_split(x,y,test_size = 0.20,random_state = 12,stratify = y)\n",
    "\n",
    "svc_classifier = SVC(kernel='linear')\n",
    "svc_classifier.fit(x_train,y_train)\n",
    "y_pred = svc_classifier.predict(x_test)\n",
    "\n",
    "print(\"Overall Accuracy : \",round(accuracy_score(y_test,y_pred),4))\n",
    "print(\"Precision        : \",round(precision_score(y_test,y_pred),4))\n",
    "print(\"Recall           : \",round(recall_score(y_test,y_pred),4))\n",
    "print(\"AUC Score        : \",round(roc_auc_score(y_test,y_pred),4))\n",
    "print(\"Confusion Matrix :\")\n",
    "\n",
    "plt.figure(figsize = (12,10))\n",
    "confu_matrix = confusion_matrix(y_test,y_pred)\n",
    "sns.heatmap(data = confu_matrix,\n",
    "            annot=True,\n",
    "            linewidths=0.8,\n",
    "            xticklabels=salary_data.columns,\n",
    "            yticklabels=salary_data.columns,\n",
    "            )\n",
    "plt.xlabel(\"Prediction\")\n",
    "plt.ylabel(\"Actual labels\")\n",
    "plt.title(\"Prediction Vs Actual\",size = 20)"
   ]
  },
  {
   "cell_type": "markdown",
   "metadata": {
    "id": "bpkIwoDqyGxR"
   },
   "source": [
    "# With scaled Data kernel is Linear"
   ]
  },
  {
   "cell_type": "code",
   "execution_count": 22,
   "metadata": {
    "colab": {
     "base_uri": "https://localhost:8080/",
     "height": 571
    },
    "id": "wsnKoRZ_fOuf",
    "outputId": "cdec4330-51ca-4220-ee8b-b6494bbd5dc7"
   },
   "outputs": [
    {
     "name": "stdout",
     "output_type": "stream",
     "text": [
      "Overall Accuracy :  0.8095\n",
      "Precision        :  0.7947\n",
      "Recall           :  0.3169\n",
      "AUC Score        :  0.6449\n",
      "Confusion Matrix :\n"
     ]
    },
    {
     "data": {
      "text/plain": [
       "Text(0.5, 1.0, 'Prediction Vs Actual')"
      ]
     },
     "execution_count": 22,
     "metadata": {},
     "output_type": "execute_result"
    },
    {
     "data": {
      "image/png": "[encoded data removed]",
      "text/plain": [
       "<Figure size 576x432 with 2 Axes>"
      ]
     },
     "metadata": {
      "needs_background": "light"
     },
     "output_type": "display_data"
    }
   ],
   "source": [
    "X_train,X_test,y_train,y_test = train_test_split(x_scaled,y,test_size = 0.20,random_state = 12,stratify = y)\n",
    "\n",
    "svc_classifier = SVC(kernel='linear',)\n",
    "svc_classifier.fit(X_train,y_train)\n",
    "y_pred = svc_classifier.predict(X_test)\n",
    "\n",
    "print(\"Overall Accuracy : \",round(accuracy_score(y_test,y_pred),4))\n",
    "print(\"Precision        : \",round(precision_score(y_test,y_pred),4))\n",
    "print(\"Recall           : \",round(recall_score(y_test,y_pred),4))\n",
    "print(\"AUC Score        : \",round(roc_auc_score(y_test,y_pred),4))\n",
    "print(\"Confusion Matrix :\")\n",
    "plt.figure(figsize = (8,6))\n",
    "confu_matrix = confusion_matrix(y_test,y_pred)\n",
    "sns.heatmap(data = confu_matrix,\n",
    "            annot=True,\n",
    "            linewidths=0.8,\n",
    "            xticklabels=salary_data.columns,\n",
    "            yticklabels=salary_data.columns,\n",
    "            )\n",
    "plt.xlabel(\"Prediction\")\n",
    "plt.ylabel(\"Actual labels\")\n",
    "plt.title(\"Prediction Vs Actual\",size = 20)"
   ]
  },
  {
   "cell_type": "markdown",
   "metadata": {
    "id": "uj9MifhNyONb"
   },
   "source": [
    "# Kernek is Poly"
   ]
  },
  {
   "cell_type": "code",
   "execution_count": 21,
   "metadata": {
    "colab": {
     "base_uri": "https://localhost:8080/",
     "height": 788
    },
    "id": "30hF6103hnKn",
    "outputId": "6bcd3732-7888-4f90-be98-0d17dd91ac4b"
   },
   "outputs": [
    {
     "name": "stdout",
     "output_type": "stream",
     "text": [
      "Overall Accuracy :  0.7727\n",
      "Precision        :  1.0\n",
      "Recall           :  0.0872\n",
      "AUC Score        :  0.5436\n",
      "Confusion Matrix :\n"
     ]
    },
    {
     "data": {
      "text/plain": [
       "Text(0.5, 1.0, 'Prediction Vs Actual')"
      ]
     },
     "execution_count": 21,
     "metadata": {},
     "output_type": "execute_result"
    },
    {
     "data": {
      "image/png": "[encoded data removed]",
      "text/plain": [
       "<Figure size 864x720 with 2 Axes>"
      ]
     },
     "metadata": {
      "needs_background": "light"
     },
     "output_type": "display_data"
    }
   ],
   "source": [
    "X_train,X_test,y_train,y_test = train_test_split(x,y,test_size = 0.20,random_state = 12,stratify = y)\n",
    "\n",
    "svc_classifier = SVC(kernel='poly')\n",
    "svc_classifier.fit(x_train,y_train)\n",
    "y_pred = svc_classifier.predict(x_test)\n",
    "\n",
    "print(\"Overall Accuracy : \",round(accuracy_score(y_test,y_pred),4))\n",
    "print(\"Precision        : \",round(precision_score(y_test,y_pred),4))\n",
    "print(\"Recall           : \",round(recall_score(y_test,y_pred),4))\n",
    "print(\"AUC Score        : \",round(roc_auc_score(y_test,y_pred),4))\n",
    "print(\"Confusion Matrix :\")\n",
    "\n",
    "plt.figure(figsize = (12,10))\n",
    "confu_matrix = confusion_matrix(y_test,y_pred)\n",
    "sns.heatmap(data = confu_matrix,\n",
    "            annot=True,\n",
    "            linewidths=0.8,\n",
    "            xticklabels=salary_data.columns,\n",
    "            yticklabels=salary_data.columns,\n",
    "            )\n",
    "plt.xlabel(\"Prediction\")\n",
    "plt.ylabel(\"Actual labels\")\n",
    "plt.title(\"Prediction Vs Actual\",size = 20)"
   ]
  },
  {
   "cell_type": "markdown",
   "metadata": {
    "id": "2Hbks1_uyTql"
   },
   "source": [
    "# With Kernel = RBF"
   ]
  },
  {
   "cell_type": "code",
   "execution_count": 23,
   "metadata": {
    "colab": {
     "base_uri": "https://localhost:8080/",
     "height": 788
    },
    "id": "G349d-NvnQK4",
    "outputId": "69f2d4a6-c34c-433a-ec1e-18f8e9dd6819"
   },
   "outputs": [
    {
     "name": "stdout",
     "output_type": "stream",
     "text": [
      "Overall Accuracy :  0.7968\n",
      "Precision        :  0.7546\n",
      "Recall           :  0.2723\n",
      "AUC Score        :  0.6215\n",
      "Confusion Matrix :\n"
     ]
    },
    {
     "data": {
      "text/plain": [
       "Text(0.5, 1.0, 'Prediction Vs Actual')"
      ]
     },
     "execution_count": 23,
     "metadata": {},
     "output_type": "execute_result"
    },
    {
     "data": {
      "image/png": "[encoded data removed]",
      "text/plain": [
       "<Figure size 864x720 with 2 Axes>"
      ]
     },
     "metadata": {
      "needs_background": "light"
     },
     "output_type": "display_data"
    }
   ],
   "source": [
    "X_train,X_test,y_train,y_test = train_test_split(x,y,test_size = 0.20,random_state = 12,stratify = y)\n",
    "\n",
    "svc_classifier = SVC(kernel='rbf')\n",
    "svc_classifier.fit(x_train,y_train)\n",
    "y_pred = svc_classifier.predict(x_test)\n",
    "\n",
    "print(\"Overall Accuracy : \",round(accuracy_score(y_test,y_pred),4))\n",
    "print(\"Precision        : \",round(precision_score(y_test,y_pred),4))\n",
    "print(\"Recall           : \",round(recall_score(y_test,y_pred),4))\n",
    "print(\"AUC Score        : \",round(roc_auc_score(y_test,y_pred),4))\n",
    "print(\"Confusion Matrix :\")\n",
    "\n",
    "plt.figure(figsize = (12,10))\n",
    "confu_matrix = confusion_matrix(y_test,y_pred)\n",
    "sns.heatmap(data = confu_matrix,\n",
    "            annot=True,\n",
    "            linewidths=0.8,\n",
    "            xticklabels=salary_data.columns,\n",
    "            yticklabels=salary_data.columns,\n",
    "            )\n",
    "plt.xlabel(\"Prediction\")\n",
    "plt.ylabel(\"Actual labels\")\n",
    "plt.title(\"Prediction Vs Actual\",size = 20)"
   ]
  },
  {
   "cell_type": "markdown",
   "metadata": {
    "id": "ZKQJpr6HwvGS"
   },
   "source": [
    "# For Test Data"
   ]
  },
  {
   "cell_type": "code",
   "execution_count": 31,
   "metadata": {
    "id": "FR9nQIpYyqZC"
   },
   "outputs": [],
   "source": [
    "salary1_data=pd.read_csv('SalaryData_Test(1).csv')"
   ]
  },
  {
   "cell_type": "code",
   "execution_count": 32,
   "metadata": {
    "id": "9mP1Fgvtyy-x"
   },
   "outputs": [],
   "source": [
    "salary1_data['education']=le.fit_transform(salary1_data.education)\n",
    "salary1_data['Salary']=le.fit_transform(salary1_data.Salary)\n",
    "salary1_data['native']=le.fit_transform(salary1_data.native)\n",
    "salary1_data['sex']=le.fit_transform(salary1_data.sex)\n",
    "salary1_data['race']=le.fit_transform(salary1_data.race)\n",
    "salary1_data['relationship']=le.fit_transform(salary1_data.relationship)\n",
    "salary1_data['occupation']=le.fit_transform(salary1_data.occupation)\n",
    "salary1_data['maritalstatus']=le.fit_transform(salary1_data.maritalstatus)\n",
    "salary1_data['workclass']=le.fit_transform(salary1_data.workclass)"
   ]
  },
  {
   "cell_type": "code",
   "execution_count": 35,
   "metadata": {
    "id": "FMhr8KD8zOGc"
   },
   "outputs": [],
   "source": [
    "x1=salary1_data.drop({'Salary'},axis=1)\n",
    "y1=salary1_data.Salary"
   ]
  },
  {
   "cell_type": "code",
   "execution_count": 38,
   "metadata": {
    "colab": {
     "base_uri": "https://localhost:8080/"
    },
    "id": "78vdt3qlzVH0",
    "outputId": "17992b06-adb8-4d0e-c316-27dfbd6137b5"
   },
   "outputs": [
    {
     "data": {
      "text/plain": [
       "array([[-1.02900513, -0.222347  , -2.42343884, ..., -0.2191694 ,\n",
       "        -0.07888904,  0.26058067],\n",
       "       [-0.05742253, -0.222347  ,  0.19017232, ..., -0.2191694 ,\n",
       "         0.75013125,  0.26058067],\n",
       "       [-0.80479376, -1.25712632, -0.85527215, ..., -0.2191694 ,\n",
       "        -0.07888904,  0.26058067],\n",
       "       ...,\n",
       "       [-0.05742253, -0.222347  , -0.33254991, ..., -0.2191694 ,\n",
       "         0.75013125,  0.26058067],\n",
       "       [ 0.39100021, -0.222347  , -0.33254991, ..., -0.2191694 ,\n",
       "        -0.07888904,  0.26058067],\n",
       "       [-0.2816339 ,  0.81243231, -0.33254991, ..., -0.2191694 ,\n",
       "         1.57915155,  0.26058067]])"
      ]
     },
     "execution_count": 38,
     "metadata": {},
     "output_type": "execute_result"
    }
   ],
   "source": [
    "scaler   = StandardScaler()\n",
    "x_scaled1 = scaler.fit_transform(x1)\n",
    "x_scaled1"
   ]
  },
  {
   "cell_type": "code",
   "execution_count": 42,
   "metadata": {
    "id": "RdWCQSlp0DyQ"
   },
   "outputs": [],
   "source": [
    "x_train1,x_test1,y_train1,y_test1 = train_test_split(x1,y1,test_size = 0.20,random_state = 12,stratify = y)"
   ]
  },
  {
   "cell_type": "code",
   "execution_count": 44,
   "metadata": {
    "colab": {
     "base_uri": "https://localhost:8080/"
    },
    "id": "_Ghbl3QA1Szo",
    "outputId": "fe90ed14-8975-4773-954f-0dfb8fc81e1a"
   },
   "outputs": [
    {
     "data": {
      "text/plain": [
       "((12048, 13), (12048,), (3012, 13), (3012,))"
      ]
     },
     "execution_count": 44,
     "metadata": {},
     "output_type": "execute_result"
    }
   ],
   "source": [
    "x_train1.shape,y_train1.shape,x_test1.shape,y_test1.shape"
   ]
  },
  {
   "cell_type": "markdown",
   "metadata": {
    "colab": {
     "base_uri": "https://localhost:8080/",
     "height": 788
    },
    "id": "Av7n7uK-za_0",
    "outputId": "a8f864e5-391d-4f35-dcc3-c438d370451a"
   },
   "source": [
    "# Kernel= RBF\n",
    "svc_classifier = SVC(kernel='rbf')\n",
    "svc_classifier.fit(x_train1,y_train1)\n",
    "y_pred = svc_classifier.predict(x_test1)\n",
    "\n",
    "print(\"Overall Accuracy : \",round(accuracy_score(y_test1,y_pred),4))\n",
    "print(\"Precision        : \",round(precision_score(y_test1,y_pred),4))\n",
    "print(\"Recall           : \",round(recall_score(y_test1,y_pred),4))\n",
    "print(\"AUC Score        : \",round(roc_auc_score(y_test1,y_pred),4))\n",
    "print(\"Confusion Matrix :\")\n",
    "\n",
    "plt.figure(figsize = (12,10))\n",
    "confu_matrix = confusion_matrix(y_test1,y_pred)\n",
    "sns.heatmap(data = confu_matrix,\n",
    "            annot=True,\n",
    "            linewidths=0.8,\n",
    "            xticklabels=salary1_data.columns,\n",
    "            yticklabels=salary1_data.columns,\n",
    "            )\n",
    "plt.xlabel(\"Prediction\")\n",
    "plt.ylabel(\"Actual labels\")\n",
    "plt.title(\"Prediction Vs Actual\",size = 20)"
   ]
  },
  {
   "cell_type": "code",
   "execution_count": null,
   "metadata": {
    "id": "wOkmtM6Qz4az"
   },
   "outputs": [],
   "source": [
    "svc_classifier = SVC(kernel='linear')\n",
    "svc_classifier.fit(x_train1,y_train1)\n",
    "y_pred = svc_classifier.predict(x_test1)\n",
    "\n",
    "print(\"Overall Accuracy : \",round(accuracy_score(y_test1,y_pred),4))\n",
    "print(\"Precision        : \",round(precision_score(y_test1,y_pred),4))\n",
    "print(\"Recall           : \",round(recall_score(y_test1,y_pred),4))\n",
    "print(\"AUC Score        : \",round(roc_auc_score(y_test1,y_pred),4))\n",
    "print(\"Confusion Matrix :\")\n",
    "\n",
    "plt.figure(figsize = (12,10))\n",
    "confu_matrix = confusion_matrix(y_test1,y_pred)\n",
    "sns.heatmap(data = confu_matrix,\n",
    "            annot=True,\n",
    "            linewidths=0.8,\n",
    "            xticklabels=salary1_data.columns,\n",
    "            yticklabels=salary1_data.columns,\n",
    "            )\n",
    "plt.xlabel(\"Prediction\")\n",
    "plt.ylabel(\"Actual labels\")\n",
    "plt.title(\"Prediction Vs Actual\",size = 20)"
   ]
  },
  {
   "cell_type": "code",
   "execution_count": null,
   "metadata": {
    "id": "AsX_y2G615mb"
   },
   "outputs": [],
   "source": []
  }
 ],
 "metadata": {
  "colab": {
   "name": "SVM.ipynb",
   "provenance": []
  },
  "kernelspec": {
   "display_name": "Python 3",
   "language": "python",
   "name": "python3"
  },
  "language_info": {
   "codemirror_mode": {
    "name": "ipython",
    "version": 3
   },
   "file_extension": ".py",
   "mimetype": "text/x-python",
   "name": "python",
   "nbconvert_exporter": "python",
   "pygments_lexer": "ipython3",
   "version": "3.8.8"
  }
 },
 "nbformat": 4,
 "nbformat_minor": 1
}
