{
 "cells": [
  {
   "cell_type": "markdown",
   "id": "e69eb8f1",
   "metadata": {},
   "source": [
    "# Importing Libraries"
   ]
  },
  {
   "cell_type": "code",
   "execution_count": 2,
   "id": "823c116f",
   "metadata": {},
   "outputs": [],
   "source": [
    "import pandas as pd\n",
    "import matplotlib.pyplot as plt\n",
    "import seaborn as sns\n",
    "from sklearn.linear_model import LinearRegression\n",
    "from sklearn.model_selection import train_test_split"
   ]
  },
  {
   "cell_type": "markdown",
   "id": "70a4938e",
   "metadata": {},
   "source": [
    "# Importing Dataset"
   ]
  },
  {
   "cell_type": "code",
   "execution_count": 3,
   "id": "fa0d683a",
   "metadata": {},
   "outputs": [
    {
     "data": {
      "text/html": [
       "<div>\n",
       "<style scoped>\n",
       "    .dataframe tbody tr th:only-of-type {\n",
       "        vertical-align: middle;\n",
       "    }\n",
       "\n",
       "    .dataframe tbody tr th {\n",
       "        vertical-align: top;\n",
       "    }\n",
       "\n",
       "    .dataframe thead th {\n",
       "        text-align: right;\n",
       "    }\n",
       "</style>\n",
       "<table border=\"1\" class=\"dataframe\">\n",
       "  <thead>\n",
       "    <tr style=\"text-align: right;\">\n",
       "      <th></th>\n",
       "      <th>R&amp;D Spend</th>\n",
       "      <th>Administration</th>\n",
       "      <th>Marketing Spend</th>\n",
       "      <th>State</th>\n",
       "      <th>Profit</th>\n",
       "    </tr>\n",
       "  </thead>\n",
       "  <tbody>\n",
       "    <tr>\n",
       "      <th>0</th>\n",
       "      <td>165349.20</td>\n",
       "      <td>136897.80</td>\n",
       "      <td>471784.10</td>\n",
       "      <td>New York</td>\n",
       "      <td>192261.83</td>\n",
       "    </tr>\n",
       "    <tr>\n",
       "      <th>1</th>\n",
       "      <td>162597.70</td>\n",
       "      <td>151377.59</td>\n",
       "      <td>443898.53</td>\n",
       "      <td>California</td>\n",
       "      <td>191792.06</td>\n",
       "    </tr>\n",
       "    <tr>\n",
       "      <th>2</th>\n",
       "      <td>153441.51</td>\n",
       "      <td>101145.55</td>\n",
       "      <td>407934.54</td>\n",
       "      <td>Florida</td>\n",
       "      <td>191050.39</td>\n",
       "    </tr>\n",
       "    <tr>\n",
       "      <th>3</th>\n",
       "      <td>144372.41</td>\n",
       "      <td>118671.85</td>\n",
       "      <td>383199.62</td>\n",
       "      <td>New York</td>\n",
       "      <td>182901.99</td>\n",
       "    </tr>\n",
       "    <tr>\n",
       "      <th>4</th>\n",
       "      <td>142107.34</td>\n",
       "      <td>91391.77</td>\n",
       "      <td>366168.42</td>\n",
       "      <td>Florida</td>\n",
       "      <td>166187.94</td>\n",
       "    </tr>\n",
       "  </tbody>\n",
       "</table>\n",
       "</div>"
      ],
      "text/plain": [
       "   R&D Spend  Administration  Marketing Spend       State     Profit\n",
       "0  165349.20       136897.80        471784.10    New York  192261.83\n",
       "1  162597.70       151377.59        443898.53  California  191792.06\n",
       "2  153441.51       101145.55        407934.54     Florida  191050.39\n",
       "3  144372.41       118671.85        383199.62    New York  182901.99\n",
       "4  142107.34        91391.77        366168.42     Florida  166187.94"
      ]
     },
     "execution_count": 3,
     "metadata": {},
     "output_type": "execute_result"
    }
   ],
   "source": [
    "startup_data=pd.read_csv('50_Startups.csv')\n",
    "startup_data.head()"
   ]
  },
  {
   "cell_type": "markdown",
   "id": "a3e91863",
   "metadata": {},
   "source": [
    "# Initial Analysis"
   ]
  },
  {
   "cell_type": "code",
   "execution_count": 4,
   "id": "052c2ed1",
   "metadata": {},
   "outputs": [
    {
     "data": {
      "text/plain": [
       "(50, 5)"
      ]
     },
     "execution_count": 4,
     "metadata": {},
     "output_type": "execute_result"
    }
   ],
   "source": [
    "startup_data.shape"
   ]
  },
  {
   "cell_type": "code",
   "execution_count": 5,
   "id": "9a6af05b",
   "metadata": {},
   "outputs": [
    {
     "data": {
      "text/plain": [
       "R&D Spend          0\n",
       "Administration     0\n",
       "Marketing Spend    0\n",
       "State              0\n",
       "Profit             0\n",
       "dtype: int64"
      ]
     },
     "execution_count": 5,
     "metadata": {},
     "output_type": "execute_result"
    }
   ],
   "source": [
    "startup_data.isnull().sum()"
   ]
  },
  {
   "cell_type": "code",
   "execution_count": 6,
   "id": "17070980",
   "metadata": {},
   "outputs": [
    {
     "data": {
      "text/plain": [
       "R&D Spend          float64\n",
       "Administration     float64\n",
       "Marketing Spend    float64\n",
       "State               object\n",
       "Profit             float64\n",
       "dtype: object"
      ]
     },
     "execution_count": 6,
     "metadata": {},
     "output_type": "execute_result"
    }
   ],
   "source": [
    "startup_data.dtypes"
   ]
  },
  {
   "cell_type": "code",
   "execution_count": 16,
   "id": "944b3aed",
   "metadata": {},
   "outputs": [
    {
     "data": {
      "text/html": [
       "<div>\n",
       "<style scoped>\n",
       "    .dataframe tbody tr th:only-of-type {\n",
       "        vertical-align: middle;\n",
       "    }\n",
       "\n",
       "    .dataframe tbody tr th {\n",
       "        vertical-align: top;\n",
       "    }\n",
       "\n",
       "    .dataframe thead th {\n",
       "        text-align: right;\n",
       "    }\n",
       "</style>\n",
       "<table border=\"1\" class=\"dataframe\">\n",
       "  <thead>\n",
       "    <tr style=\"text-align: right;\">\n",
       "      <th></th>\n",
       "      <th>RDS</th>\n",
       "      <th>ADMT</th>\n",
       "      <th>MKSD</th>\n",
       "      <th>State</th>\n",
       "      <th>Profit</th>\n",
       "    </tr>\n",
       "  </thead>\n",
       "  <tbody>\n",
       "    <tr>\n",
       "      <th>count</th>\n",
       "      <td>50.000000</td>\n",
       "      <td>50.000000</td>\n",
       "      <td>50.000000</td>\n",
       "      <td>50.000000</td>\n",
       "      <td>50.000000</td>\n",
       "    </tr>\n",
       "    <tr>\n",
       "      <th>mean</th>\n",
       "      <td>73721.615600</td>\n",
       "      <td>121344.639600</td>\n",
       "      <td>211025.097800</td>\n",
       "      <td>1.000000</td>\n",
       "      <td>112012.639200</td>\n",
       "    </tr>\n",
       "    <tr>\n",
       "      <th>std</th>\n",
       "      <td>45902.256482</td>\n",
       "      <td>28017.802755</td>\n",
       "      <td>122290.310726</td>\n",
       "      <td>0.832993</td>\n",
       "      <td>40306.180338</td>\n",
       "    </tr>\n",
       "    <tr>\n",
       "      <th>min</th>\n",
       "      <td>0.000000</td>\n",
       "      <td>51283.140000</td>\n",
       "      <td>0.000000</td>\n",
       "      <td>0.000000</td>\n",
       "      <td>14681.400000</td>\n",
       "    </tr>\n",
       "    <tr>\n",
       "      <th>25%</th>\n",
       "      <td>39936.370000</td>\n",
       "      <td>103730.875000</td>\n",
       "      <td>129300.132500</td>\n",
       "      <td>0.000000</td>\n",
       "      <td>90138.902500</td>\n",
       "    </tr>\n",
       "    <tr>\n",
       "      <th>50%</th>\n",
       "      <td>73051.080000</td>\n",
       "      <td>122699.795000</td>\n",
       "      <td>212716.240000</td>\n",
       "      <td>1.000000</td>\n",
       "      <td>107978.190000</td>\n",
       "    </tr>\n",
       "    <tr>\n",
       "      <th>75%</th>\n",
       "      <td>101602.800000</td>\n",
       "      <td>144842.180000</td>\n",
       "      <td>299469.085000</td>\n",
       "      <td>2.000000</td>\n",
       "      <td>139765.977500</td>\n",
       "    </tr>\n",
       "    <tr>\n",
       "      <th>max</th>\n",
       "      <td>165349.200000</td>\n",
       "      <td>182645.560000</td>\n",
       "      <td>471784.100000</td>\n",
       "      <td>2.000000</td>\n",
       "      <td>192261.830000</td>\n",
       "    </tr>\n",
       "  </tbody>\n",
       "</table>\n",
       "</div>"
      ],
      "text/plain": [
       "                 RDS           ADMT           MKSD      State         Profit\n",
       "count      50.000000      50.000000      50.000000  50.000000      50.000000\n",
       "mean    73721.615600  121344.639600  211025.097800   1.000000  112012.639200\n",
       "std     45902.256482   28017.802755  122290.310726   0.832993   40306.180338\n",
       "min         0.000000   51283.140000       0.000000   0.000000   14681.400000\n",
       "25%     39936.370000  103730.875000  129300.132500   0.000000   90138.902500\n",
       "50%     73051.080000  122699.795000  212716.240000   1.000000  107978.190000\n",
       "75%    101602.800000  144842.180000  299469.085000   2.000000  139765.977500\n",
       "max    165349.200000  182645.560000  471784.100000   2.000000  192261.830000"
      ]
     },
     "execution_count": 16,
     "metadata": {},
     "output_type": "execute_result"
    }
   ],
   "source": [
    "startup_data.describe()"
   ]
  },
  {
   "cell_type": "markdown",
   "id": "a1386e47",
   "metadata": {},
   "source": [
    "# Data Preparation / Data Preprocessing\n",
    "###    Data Transformation \n",
    "###### In our data state feature is descrete so we are performng\n",
    "         * Label Encoder\n",
    "         * One-Hot Encoder"
   ]
  },
  {
   "cell_type": "code",
   "execution_count": 9,
   "id": "75f7c1c0",
   "metadata": {},
   "outputs": [],
   "source": [
    "from sklearn.preprocessing import LabelEncoder\n",
    "le=LabelEncoder()"
   ]
  },
  {
   "cell_type": "code",
   "execution_count": 10,
   "id": "3cdffc89",
   "metadata": {},
   "outputs": [],
   "source": [
    "startup_data['State'] = le.fit_transform(startup_data['State'])"
   ]
  },
  {
   "cell_type": "code",
   "execution_count": 13,
   "id": "83335aef",
   "metadata": {},
   "outputs": [
    {
     "data": {
      "text/html": [
       "<div>\n",
       "<style scoped>\n",
       "    .dataframe tbody tr th:only-of-type {\n",
       "        vertical-align: middle;\n",
       "    }\n",
       "\n",
       "    .dataframe tbody tr th {\n",
       "        vertical-align: top;\n",
       "    }\n",
       "\n",
       "    .dataframe thead th {\n",
       "        text-align: right;\n",
       "    }\n",
       "</style>\n",
       "<table border=\"1\" class=\"dataframe\">\n",
       "  <thead>\n",
       "    <tr style=\"text-align: right;\">\n",
       "      <th></th>\n",
       "      <th>RDS</th>\n",
       "      <th>ADMT</th>\n",
       "      <th>MKSD</th>\n",
       "      <th>State</th>\n",
       "      <th>Profit</th>\n",
       "    </tr>\n",
       "  </thead>\n",
       "  <tbody>\n",
       "    <tr>\n",
       "      <th>0</th>\n",
       "      <td>165349.20</td>\n",
       "      <td>136897.80</td>\n",
       "      <td>471784.10</td>\n",
       "      <td>2</td>\n",
       "      <td>192261.83</td>\n",
       "    </tr>\n",
       "    <tr>\n",
       "      <th>1</th>\n",
       "      <td>162597.70</td>\n",
       "      <td>151377.59</td>\n",
       "      <td>443898.53</td>\n",
       "      <td>0</td>\n",
       "      <td>191792.06</td>\n",
       "    </tr>\n",
       "    <tr>\n",
       "      <th>2</th>\n",
       "      <td>153441.51</td>\n",
       "      <td>101145.55</td>\n",
       "      <td>407934.54</td>\n",
       "      <td>1</td>\n",
       "      <td>191050.39</td>\n",
       "    </tr>\n",
       "    <tr>\n",
       "      <th>3</th>\n",
       "      <td>144372.41</td>\n",
       "      <td>118671.85</td>\n",
       "      <td>383199.62</td>\n",
       "      <td>2</td>\n",
       "      <td>182901.99</td>\n",
       "    </tr>\n",
       "    <tr>\n",
       "      <th>4</th>\n",
       "      <td>142107.34</td>\n",
       "      <td>91391.77</td>\n",
       "      <td>366168.42</td>\n",
       "      <td>1</td>\n",
       "      <td>166187.94</td>\n",
       "    </tr>\n",
       "  </tbody>\n",
       "</table>\n",
       "</div>"
      ],
      "text/plain": [
       "         RDS       ADMT       MKSD  State     Profit\n",
       "0  165349.20  136897.80  471784.10      2  192261.83\n",
       "1  162597.70  151377.59  443898.53      0  191792.06\n",
       "2  153441.51  101145.55  407934.54      1  191050.39\n",
       "3  144372.41  118671.85  383199.62      2  182901.99\n",
       "4  142107.34   91391.77  366168.42      1  166187.94"
      ]
     },
     "execution_count": 13,
     "metadata": {},
     "output_type": "execute_result"
    }
   ],
   "source": [
    "startup_data.head()"
   ]
  },
  {
   "cell_type": "code",
   "execution_count": 20,
   "id": "0f50f354",
   "metadata": {},
   "outputs": [
    {
     "data": {
      "text/html": [
       "<div>\n",
       "<style scoped>\n",
       "    .dataframe tbody tr th:only-of-type {\n",
       "        vertical-align: middle;\n",
       "    }\n",
       "\n",
       "    .dataframe tbody tr th {\n",
       "        vertical-align: top;\n",
       "    }\n",
       "\n",
       "    .dataframe thead th {\n",
       "        text-align: right;\n",
       "    }\n",
       "</style>\n",
       "<table border=\"1\" class=\"dataframe\">\n",
       "  <thead>\n",
       "    <tr style=\"text-align: right;\">\n",
       "      <th></th>\n",
       "      <th>RDS</th>\n",
       "      <th>ADMT</th>\n",
       "      <th>MKSD</th>\n",
       "      <th>State</th>\n",
       "      <th>Profit</th>\n",
       "    </tr>\n",
       "  </thead>\n",
       "  <tbody>\n",
       "    <tr>\n",
       "      <th>0</th>\n",
       "      <td>165349.20</td>\n",
       "      <td>136897.80</td>\n",
       "      <td>471784.10</td>\n",
       "      <td>2</td>\n",
       "      <td>192261.83</td>\n",
       "    </tr>\n",
       "    <tr>\n",
       "      <th>1</th>\n",
       "      <td>162597.70</td>\n",
       "      <td>151377.59</td>\n",
       "      <td>443898.53</td>\n",
       "      <td>0</td>\n",
       "      <td>191792.06</td>\n",
       "    </tr>\n",
       "    <tr>\n",
       "      <th>2</th>\n",
       "      <td>153441.51</td>\n",
       "      <td>101145.55</td>\n",
       "      <td>407934.54</td>\n",
       "      <td>1</td>\n",
       "      <td>191050.39</td>\n",
       "    </tr>\n",
       "    <tr>\n",
       "      <th>3</th>\n",
       "      <td>144372.41</td>\n",
       "      <td>118671.85</td>\n",
       "      <td>383199.62</td>\n",
       "      <td>2</td>\n",
       "      <td>182901.99</td>\n",
       "    </tr>\n",
       "    <tr>\n",
       "      <th>4</th>\n",
       "      <td>142107.34</td>\n",
       "      <td>91391.77</td>\n",
       "      <td>366168.42</td>\n",
       "      <td>1</td>\n",
       "      <td>166187.94</td>\n",
       "    </tr>\n",
       "  </tbody>\n",
       "</table>\n",
       "</div>"
      ],
      "text/plain": [
       "         RDS       ADMT       MKSD  State     Profit\n",
       "0  165349.20  136897.80  471784.10      2  192261.83\n",
       "1  162597.70  151377.59  443898.53      0  191792.06\n",
       "2  153441.51  101145.55  407934.54      1  191050.39\n",
       "3  144372.41  118671.85  383199.62      2  182901.99\n",
       "4  142107.34   91391.77  366168.42      1  166187.94"
      ]
     },
     "execution_count": 20,
     "metadata": {},
     "output_type": "execute_result"
    }
   ],
   "source": [
    "# Here we are renaming some columns name because we see some characters which gives error for our model....\n",
    "startup_data=startup_data.rename({'R&D Spend':'RDS','Administration':'ADMT','Marketing Spend':'MKSD'},axis=1)\n",
    "startup_data.head()"
   ]
  },
  {
   "cell_type": "markdown",
   "id": "26096f20",
   "metadata": {},
   "source": [
    "# Checking For Assumptions\n",
    "###### We check the Linearity with Scatter Plot"
   ]
  },
  {
   "cell_type": "code",
   "execution_count": 36,
   "id": "e6a31abb",
   "metadata": {},
   "outputs": [
    {
     "data": {
      "text/plain": [
       "<matplotlib.collections.PathCollection at 0x2c20b5c4760>"
      ]
     },
     "execution_count": 36,
     "metadata": {},
     "output_type": "execute_result"
    },
    {
     "data": {
      "image/png": "[encoded data removed]",
      "text/plain": [
       "<Figure size 432x288 with 1 Axes>"
      ]
     },
     "metadata": {
      "needs_background": "light"
     },
     "output_type": "display_data"
    }
   ],
   "source": [
    "plt.scatter(x='RDS',y='Profit',data=startup_data)"
   ]
  },
  {
   "cell_type": "code",
   "execution_count": 37,
   "id": "af4abd3f",
   "metadata": {},
   "outputs": [
    {
     "data": {
      "text/plain": [
       "<matplotlib.collections.PathCollection at 0x2c20b8c7670>"
      ]
     },
     "execution_count": 37,
     "metadata": {},
     "output_type": "execute_result"
    },
    {
     "data": {
      "image/png": "[encoded data removed]",
      "text/plain": [
       "<Figure size 432x288 with 1 Axes>"
      ]
     },
     "metadata": {
      "needs_background": "light"
     },
     "output_type": "display_data"
    }
   ],
   "source": [
    "plt.scatter(x='ADMT',y='Profit',data=startup_data)"
   ]
  },
  {
   "cell_type": "code",
   "execution_count": 38,
   "id": "53536b06",
   "metadata": {},
   "outputs": [
    {
     "data": {
      "text/plain": [
       "<matplotlib.collections.PathCollection at 0x2c20ab412b0>"
      ]
     },
     "execution_count": 38,
     "metadata": {},
     "output_type": "execute_result"
    },
    {
     "data": {
      "image/png": "[encoded data removed]",
      "text/plain": [
       "<Figure size 432x288 with 1 Axes>"
      ]
     },
     "metadata": {
      "needs_background": "light"
     },
     "output_type": "display_data"
    }
   ],
   "source": [
    "plt.scatter(x='MKSD',y='Profit',data=startup_data)"
   ]
  },
  {
   "cell_type": "code",
   "execution_count": 39,
   "id": "6a4f86c4",
   "metadata": {},
   "outputs": [
    {
     "data": {
      "text/plain": [
       "<matplotlib.collections.PathCollection at 0x2c20aa60670>"
      ]
     },
     "execution_count": 39,
     "metadata": {},
     "output_type": "execute_result"
    },
    {
     "data": {
      "image/png": "[encoded data removed]",
      "text/plain": [
       "<Figure size 432x288 with 1 Axes>"
      ]
     },
     "metadata": {
      "needs_background": "light"
     },
     "output_type": "display_data"
    }
   ],
   "source": [
    "plt.scatter(x='State',y='Profit',data=startup_data)"
   ]
  },
  {
   "cell_type": "code",
   "execution_count": 40,
   "id": "9c73a0de",
   "metadata": {},
   "outputs": [],
   "source": [
    "# Here we see that only the RDS and MKSD matches the  linearity."
   ]
  },
  {
   "cell_type": "code",
   "execution_count": 41,
   "id": "56c3ee4f",
   "metadata": {},
   "outputs": [
    {
     "data": {
      "text/html": [
       "<div>\n",
       "<style scoped>\n",
       "    .dataframe tbody tr th:only-of-type {\n",
       "        vertical-align: middle;\n",
       "    }\n",
       "\n",
       "    .dataframe tbody tr th {\n",
       "        vertical-align: top;\n",
       "    }\n",
       "\n",
       "    .dataframe thead th {\n",
       "        text-align: right;\n",
       "    }\n",
       "</style>\n",
       "<table border=\"1\" class=\"dataframe\">\n",
       "  <thead>\n",
       "    <tr style=\"text-align: right;\">\n",
       "      <th></th>\n",
       "      <th>RDS</th>\n",
       "      <th>ADMT</th>\n",
       "      <th>MKSD</th>\n",
       "      <th>State</th>\n",
       "      <th>Profit</th>\n",
       "    </tr>\n",
       "  </thead>\n",
       "  <tbody>\n",
       "    <tr>\n",
       "      <th>RDS</th>\n",
       "      <td>1.000000</td>\n",
       "      <td>0.241955</td>\n",
       "      <td>0.724248</td>\n",
       "      <td>0.104685</td>\n",
       "      <td>0.972900</td>\n",
       "    </tr>\n",
       "    <tr>\n",
       "      <th>ADMT</th>\n",
       "      <td>0.241955</td>\n",
       "      <td>1.000000</td>\n",
       "      <td>-0.032154</td>\n",
       "      <td>0.011847</td>\n",
       "      <td>0.200717</td>\n",
       "    </tr>\n",
       "    <tr>\n",
       "      <th>MKSD</th>\n",
       "      <td>0.724248</td>\n",
       "      <td>-0.032154</td>\n",
       "      <td>1.000000</td>\n",
       "      <td>0.077670</td>\n",
       "      <td>0.747766</td>\n",
       "    </tr>\n",
       "    <tr>\n",
       "      <th>State</th>\n",
       "      <td>0.104685</td>\n",
       "      <td>0.011847</td>\n",
       "      <td>0.077670</td>\n",
       "      <td>1.000000</td>\n",
       "      <td>0.101796</td>\n",
       "    </tr>\n",
       "    <tr>\n",
       "      <th>Profit</th>\n",
       "      <td>0.972900</td>\n",
       "      <td>0.200717</td>\n",
       "      <td>0.747766</td>\n",
       "      <td>0.101796</td>\n",
       "      <td>1.000000</td>\n",
       "    </tr>\n",
       "  </tbody>\n",
       "</table>\n",
       "</div>"
      ],
      "text/plain": [
       "             RDS      ADMT      MKSD     State    Profit\n",
       "RDS     1.000000  0.241955  0.724248  0.104685  0.972900\n",
       "ADMT    0.241955  1.000000 -0.032154  0.011847  0.200717\n",
       "MKSD    0.724248 -0.032154  1.000000  0.077670  0.747766\n",
       "State   0.104685  0.011847  0.077670  1.000000  0.101796\n",
       "Profit  0.972900  0.200717  0.747766  0.101796  1.000000"
      ]
     },
     "execution_count": 41,
     "metadata": {},
     "output_type": "execute_result"
    }
   ],
   "source": [
    "startup_data.corr()"
   ]
  },
  {
   "cell_type": "code",
   "execution_count": 42,
   "id": "35427df7",
   "metadata": {},
   "outputs": [],
   "source": [
    "# Let's check the colinearity with VIF score\n",
    "import numpy as np"
   ]
  },
  {
   "cell_type": "code",
   "execution_count": 43,
   "id": "3c7f1481",
   "metadata": {},
   "outputs": [
    {
     "name": "stdout",
     "output_type": "stream",
     "text": [
      "[8.386322337836244, 4.815915745674518, 7.674607839106836, 2.382637006599466]\n"
     ]
    }
   ],
   "source": [
    "x= np.array(startup_data[['RDS','ADMT','MKSD','State']])\n",
    "from statsmodels.stats.outliers_influence import variance_inflation_factor\n",
    "vif=pd.DataFrame()\n",
    "vif=[variance_inflation_factor(x,i) for i in range (x.shape[1])]\n",
    "print(vif)"
   ]
  },
  {
   "cell_type": "code",
   "execution_count": 44,
   "id": "2f2ca8ec",
   "metadata": {},
   "outputs": [],
   "source": [
    "# Here we see that according to the vif score the input features are not very much corealted...."
   ]
  },
  {
   "cell_type": "markdown",
   "id": "1e6fa95b",
   "metadata": {},
   "source": [
    "# Model Building"
   ]
  },
  {
   "cell_type": "code",
   "execution_count": 45,
   "id": "8c017df1",
   "metadata": {},
   "outputs": [],
   "source": [
    "x=startup_data.loc[:,'RDS':'State']\n",
    "y=startup_data['Profit']"
   ]
  },
  {
   "cell_type": "code",
   "execution_count": 46,
   "id": "118f5992",
   "metadata": {},
   "outputs": [],
   "source": [
    "x_train,x_test,y_train,y_test=train_test_split(x,y,test_size=0.20,random_state=1)"
   ]
  },
  {
   "cell_type": "code",
   "execution_count": 47,
   "id": "be2de019",
   "metadata": {},
   "outputs": [
    {
     "data": {
      "text/plain": [
       "(40, 4)"
      ]
     },
     "execution_count": 47,
     "metadata": {},
     "output_type": "execute_result"
    }
   ],
   "source": [
    "x_train.shape"
   ]
  },
  {
   "cell_type": "code",
   "execution_count": 48,
   "id": "652b4fec",
   "metadata": {},
   "outputs": [
    {
     "data": {
      "text/plain": [
       "(10, 4)"
      ]
     },
     "execution_count": 48,
     "metadata": {},
     "output_type": "execute_result"
    }
   ],
   "source": [
    "x_test.shape"
   ]
  },
  {
   "cell_type": "code",
   "execution_count": 49,
   "id": "9a3c7749",
   "metadata": {},
   "outputs": [],
   "source": [
    "lr=LinearRegression()"
   ]
  },
  {
   "cell_type": "markdown",
   "id": "3a5dbfc4",
   "metadata": {},
   "source": [
    "# Model Training"
   ]
  },
  {
   "cell_type": "code",
   "execution_count": 50,
   "id": "012eb113",
   "metadata": {},
   "outputs": [
    {
     "data": {
      "text/plain": [
       "LinearRegression()"
      ]
     },
     "execution_count": 50,
     "metadata": {},
     "output_type": "execute_result"
    }
   ],
   "source": [
    "lr.fit(x_train,y_train)"
   ]
  },
  {
   "cell_type": "markdown",
   "id": "013e1ac4",
   "metadata": {},
   "source": [
    "# Model Testing"
   ]
  },
  {
   "cell_type": "code",
   "execution_count": 51,
   "id": "de5524cf",
   "metadata": {},
   "outputs": [],
   "source": [
    "y_pred=lr.predict(x_train)"
   ]
  },
  {
   "cell_type": "markdown",
   "id": "65a2c364",
   "metadata": {},
   "source": [
    "# Model Evaluation \n",
    " ##### To check my model's acuracy"
   ]
  },
  {
   "cell_type": "code",
   "execution_count": 52,
   "id": "3048c6ed",
   "metadata": {},
   "outputs": [],
   "source": [
    "from sklearn.metrics import mean_squared_error,r2_score"
   ]
  },
  {
   "cell_type": "code",
   "execution_count": 53,
   "id": "34b9ffd0",
   "metadata": {},
   "outputs": [
    {
     "name": "stdout",
     "output_type": "stream",
     "text": [
      "MSE : 80081725.0151037\n",
      "R2Score : 0.9424153873982086\n"
     ]
    }
   ],
   "source": [
    "print('MSE :',mean_squared_error(y_train,y_pred))\n",
    "print('R2Score :',r2_score(y_train,y_pred))"
   ]
  },
  {
   "cell_type": "code",
   "execution_count": 54,
   "id": "4ed182bb",
   "metadata": {},
   "outputs": [],
   "source": [
    "# Testing Accuracy\n",
    "####### MSE : 79447889.4764007\n",
    "####### R2Score : 0.9649827631091706\n",
    "    # Training Accuracy\n",
    "####### MSE : 80081725.0151037\n",
    "####### R2Score : 0.9424153873982086"
   ]
  },
  {
   "cell_type": "markdown",
   "id": "2592eb4d",
   "metadata": {},
   "source": [
    "# Model Optimization"
   ]
  },
  {
   "cell_type": "code",
   "execution_count": 55,
   "id": "1ea50929",
   "metadata": {},
   "outputs": [],
   "source": [
    "import statsmodels.formula.api as smf"
   ]
  },
  {
   "cell_type": "code",
   "execution_count": 56,
   "id": "6e367ccf",
   "metadata": {},
   "outputs": [],
   "source": [
    "model=smf.ols('Profit~RDS+ADMT+MKSD+State',data=startup_data).fit()"
   ]
  },
  {
   "cell_type": "code",
   "execution_count": 57,
   "id": "eac344cd",
   "metadata": {},
   "outputs": [
    {
     "data": {
      "text/plain": [
       "Intercept    50142.506443\n",
       "RDS              0.805760\n",
       "ADMT            -0.026826\n",
       "MKSD             0.027228\n",
       "State          -22.320577\n",
       "dtype: float64"
      ]
     },
     "execution_count": 57,
     "metadata": {},
     "output_type": "execute_result"
    }
   ],
   "source": [
    "model.params"
   ]
  },
  {
   "cell_type": "code",
   "execution_count": 58,
   "id": "9c6d166d",
   "metadata": {},
   "outputs": [
    {
     "data": {
      "text/plain": [
       "Intercept    2.900008e-09\n",
       "RDS          8.249206e-22\n",
       "ADMT         6.056771e-01\n",
       "MKSD         1.086131e-01\n",
       "State        9.889988e-01\n",
       "dtype: float64"
      ]
     },
     "execution_count": 58,
     "metadata": {},
     "output_type": "execute_result"
    }
   ],
   "source": [
    "model.pvalues"
   ]
  },
  {
   "cell_type": "code",
   "execution_count": 59,
   "id": "44d12428",
   "metadata": {},
   "outputs": [],
   "source": [
    "# Let's construct miltiple models in order to get the best accuracy score"
   ]
  },
  {
   "cell_type": "code",
   "execution_count": 64,
   "id": "605243c6",
   "metadata": {},
   "outputs": [],
   "source": [
    "model_2=smf.ols('Profit~ADMT+MKSD+State',data=startup_data).fit()"
   ]
  },
  {
   "cell_type": "code",
   "execution_count": 68,
   "id": "4d745b45",
   "metadata": {},
   "outputs": [
    {
     "data": {
      "text/plain": [
       "Intercept    3.137147e-01\n",
       "ADMT         1.860240e-02\n",
       "MKSD         1.777616e-10\n",
       "State        6.606341e-01\n",
       "dtype: float64"
      ]
     },
     "execution_count": 68,
     "metadata": {},
     "output_type": "execute_result"
    }
   ],
   "source": [
    "model_2.pvalues"
   ]
  },
  {
   "cell_type": "markdown",
   "id": "3bed898a",
   "metadata": {},
   "source": [
    "model_3=smf.ols('Profit~RDS+MKSD+State',data=startup_data).fit()"
   ]
  },
  {
   "cell_type": "code",
   "execution_count": 69,
   "id": "8477190e",
   "metadata": {},
   "outputs": [
    {
     "data": {
      "text/plain": [
       "Intercept    8.270545e-20\n",
       "RDS          2.013984e-23\n",
       "MKSD         6.284954e-02\n",
       "State        9.946539e-01\n",
       "dtype: float64"
      ]
     },
     "execution_count": 69,
     "metadata": {},
     "output_type": "execute_result"
    }
   ],
   "source": [
    "model_3.pvalues"
   ]
  },
  {
   "cell_type": "code",
   "execution_count": 66,
   "id": "fa32fff4",
   "metadata": {},
   "outputs": [],
   "source": [
    "model_4=smf.ols('Profit~RDS+ADMT+State',data=startup_data).fit()"
   ]
  },
  {
   "cell_type": "code",
   "execution_count": 70,
   "id": "3f2ec546",
   "metadata": {},
   "outputs": [
    {
     "data": {
      "text/plain": [
       "Intercept    2.220841e-11\n",
       "RDS          1.253159e-30\n",
       "ADMT         2.940797e-01\n",
       "State        9.870046e-01\n",
       "dtype: float64"
      ]
     },
     "execution_count": 70,
     "metadata": {},
     "output_type": "execute_result"
    }
   ],
   "source": [
    "model_4.pvalues"
   ]
  },
  {
   "cell_type": "code",
   "execution_count": 67,
   "id": "3632d45f",
   "metadata": {},
   "outputs": [],
   "source": [
    "model_5=smf.ols('Profit~RDS+ADMT+MKSD',data=startup_data).fit()"
   ]
  },
  {
   "cell_type": "code",
   "execution_count": 71,
   "id": "a9ce2f8d",
   "metadata": {},
   "outputs": [
    {
     "data": {
      "text/plain": [
       "Intercept    1.057379e-09\n",
       "RDS          2.634968e-22\n",
       "ADMT         6.017551e-01\n",
       "MKSD         1.047168e-01\n",
       "dtype: float64"
      ]
     },
     "execution_count": 71,
     "metadata": {},
     "output_type": "execute_result"
    }
   ],
   "source": [
    "model_5.pvalues"
   ]
  },
  {
   "cell_type": "code",
   "execution_count": 72,
   "id": "bc48e7e6",
   "metadata": {},
   "outputs": [],
   "source": [
    "# Checking my optimized model accuracy by evaluation metrics"
   ]
  },
  {
   "cell_type": "code",
   "execution_count": 73,
   "id": "4e10ad4f",
   "metadata": {},
   "outputs": [
    {
     "data": {
      "text/plain": [
       "(1060.7712849964787, 0.9507462044842656)"
      ]
     },
     "execution_count": 73,
     "metadata": {},
     "output_type": "execute_result"
    }
   ],
   "source": [
    "model.aic,model.rsquared"
   ]
  },
  {
   "cell_type": "code",
   "execution_count": 74,
   "id": "8d878b61",
   "metadata": {},
   "outputs": [
    {
     "data": {
      "text/plain": [
       "(1162.0529996217995, 0.6113727245607465)"
      ]
     },
     "execution_count": 74,
     "metadata": {},
     "output_type": "execute_result"
    }
   ],
   "source": [
    "model_2.aic,model_2.rsquared"
   ]
  },
  {
   "cell_type": "code",
   "execution_count": 75,
   "id": "0ae32d6c",
   "metadata": {},
   "outputs": [
    {
     "data": {
      "text/plain": [
       "(1059.0707228589933, 0.9504503504444918)"
      ]
     },
     "execution_count": 75,
     "metadata": {},
     "output_type": "execute_result"
    }
   ],
   "source": [
    "model_3.aic,model_3.rsquared"
   ]
  },
  {
   "cell_type": "code",
   "execution_count": 76,
   "id": "388fb8cf",
   "metadata": {},
   "outputs": [
    {
     "data": {
      "text/plain": [
       "(1061.663401933727, 0.9478132427746072)"
      ]
     },
     "execution_count": 76,
     "metadata": {},
     "output_type": "execute_result"
    }
   ],
   "source": [
    "model_4.aic,model_4.rsquared"
   ]
  },
  {
   "cell_type": "code",
   "execution_count": 77,
   "id": "cf1a0452",
   "metadata": {},
   "outputs": [
    {
     "data": {
      "text/plain": [
       "(1058.7714985998055, 0.9507459940683246)"
      ]
     },
     "execution_count": 77,
     "metadata": {},
     "output_type": "execute_result"
    }
   ],
   "source": [
    "model_5.aic,model_5.rsquared"
   ]
  },
  {
   "cell_type": "markdown",
   "id": "ce4548a4",
   "metadata": {},
   "source": [
    "# Interpretation\n",
    "#### With respect to LinearRegression our model leads to overfitting problem where our test accuracy is greayer than our train accuracy\n",
    "###### so we rely on statsmodel where we see that model_5 is giving the less aic value with 95% of accuracy...."
   ]
  },
  {
   "cell_type": "code",
   "execution_count": null,
   "id": "73276933",
   "metadata": {},
   "outputs": [],
   "source": []
  }
 ],
 "metadata": {
  "kernelspec": {
   "display_name": "Python 3",
   "language": "python",
   "name": "python3"
  },
  "language_info": {
   "codemirror_mode": {
    "name": "ipython",
    "version": 3
   },
   "file_extension": ".py",
   "mimetype": "text/x-python",
   "name": "python",
   "nbconvert_exporter": "python",
   "pygments_lexer": "ipython3",
   "version": "3.8.8"
  }
 },
 "nbformat": 4,
 "nbformat_minor": 5
}
